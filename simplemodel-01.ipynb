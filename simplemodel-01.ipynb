{
 "cells": [
  {
   "cell_type": "markdown",
   "id": "4375f7e4",
   "metadata": {},
   "source": [
    "# A Simple Model"
   ]
  },
  {
   "cell_type": "code",
   "execution_count": null,
   "id": "6cfe5adc",
   "metadata": {},
   "outputs": [],
   "source": []
  },
  {
   "cell_type": "code",
   "execution_count": 1,
   "id": "d6ba6608",
   "metadata": {},
   "outputs": [],
   "source": [
    "import pandas as pd\n",
    "from sklearn import base\n",
    "from sklearn import preprocessing\n",
    "from sklearn.model_selection import train_test_split\n",
    "import joblib\n",
    "import numpy as np\n",
    "import matplotlib.pyplot as plt\n",
    "from pathlib import Path\n",
    "%matplotlib inline"
   ]
  },
  {
   "cell_type": "code",
   "execution_count": 2,
   "id": "5692f3fd",
   "metadata": {},
   "outputs": [],
   "source": [
    "from typing import List, Union, Tuple, Dict"
   ]
  },
  {
   "cell_type": "code",
   "execution_count": 3,
   "id": "e392308b",
   "metadata": {},
   "outputs": [],
   "source": [
    "RANDOM_STATE = 42"
   ]
  },
  {
   "cell_type": "code",
   "execution_count": 4,
   "id": "e2a0cc8e",
   "metadata": {},
   "outputs": [],
   "source": [
    "train_df_path = \"data/train.csv\"\n",
    "test_df_path = \"data/test.csv\""
   ]
  },
  {
   "cell_type": "markdown",
   "id": "5be516e0",
   "metadata": {},
   "source": [
    "Here are the features in the data:"
   ]
  },
  {
   "cell_type": "markdown",
   "id": "4a58b306",
   "metadata": {},
   "source": [
    "```\n",
    "survived - Survival (0 = No; 1 = Yes)\n",
    "class - Passenger Class (1 = 1st; 2 = 2nd; 3 = 3rd)\n",
    "name - Name\n",
    "sex - Sex\n",
    "age - Age\n",
    "sibsp - Number of Siblings/Spouses Aboard\n",
    "parch - Number of Parents/Children Aboard\n",
    "ticket - Ticket Number\n",
    "fare - Passenger Fare\n",
    "cabin - Cabin\n",
    "embarked - Port of Embarkation (C = Cherbourg; Q = Queenstown; S = Southampton)\n",
    "boat - Lifeboat (if survived)\n",
    "body - Body number (if did not survive and body was recovered)\n",
    "```"
   ]
  },
  {
   "cell_type": "code",
   "execution_count": 5,
   "id": "45a176f8",
   "metadata": {},
   "outputs": [],
   "source": [
    "# Constant\n",
    "index_col = 'passengerid'\n",
    "drop_cols = [\"name\", \"sibsp\", \"parch\", \"ticket\"]\n",
    "target_col = \"survived\"\n",
    "target_names = [\"died\", target_col]\n",
    "cat_cols = [\"sex\", \"cabin\", \"embarked\"]"
   ]
  },
  {
   "cell_type": "markdown",
   "id": "0b048d71",
   "metadata": {},
   "source": [
    "## Functions"
   ]
  },
  {
   "cell_type": "code",
   "execution_count": 6,
   "id": "bf25d79c",
   "metadata": {},
   "outputs": [],
   "source": [
    "def _sanitize_columns(\n",
    "    df_columns: List[str] # the current column names\n",
    ") -> List[str]: # sanitized column names\n",
    "    return [c.strip().replace(\"/\", \"_per_\").replace(\" \", \"_\").lower() for c in df_columns]"
   ]
  },
  {
   "cell_type": "code",
   "execution_count": 7,
   "id": "012cb3db",
   "metadata": {},
   "outputs": [
    {
     "data": {
      "text/plain": [
       "['passengerid',\n",
       " 'survived',\n",
       " 'pclass',\n",
       " 'name',\n",
       " 'sex',\n",
       " 'age',\n",
       " 'sibsp',\n",
       " 'parch',\n",
       " 'ticket',\n",
       " 'fare',\n",
       " 'cabin',\n",
       " 'embarked']"
      ]
     },
     "execution_count": 7,
     "metadata": {},
     "output_type": "execute_result"
    }
   ],
   "source": [
    "cols = 'PassengerId,Survived,Pclass,Name,Sex,Age,SibSp,Parch,Ticket,Fare,Cabin,Embarked'.strip().split(',')\n",
    "_sanitize_columns(cols)"
   ]
  },
  {
   "cell_type": "code",
   "execution_count": 8,
   "id": "2c813345",
   "metadata": {},
   "outputs": [],
   "source": [
    "cols_test = list(set(cols) - set(['Survived']))"
   ]
  },
  {
   "cell_type": "code",
   "execution_count": 9,
   "id": "cb6ae02e",
   "metadata": {},
   "outputs": [
    {
     "data": {
      "text/plain": [
       "['hello_world', 'revenue_per_user', 'camelcase']"
      ]
     },
     "execution_count": 9,
     "metadata": {},
     "output_type": "execute_result"
    }
   ],
   "source": [
    "_sanitize_columns([\"hello world\",\"revenue/user\", \"CamelCase\"])"
   ]
  },
  {
   "cell_type": "markdown",
   "id": "24474ac9",
   "metadata": {},
   "source": [
    "### for Feature Engineering"
   ]
  },
  {
   "cell_type": "code",
   "execution_count": 23,
   "id": "b6a81080",
   "metadata": {},
   "outputs": [],
   "source": [
    "# print(\"Engineering features...\")\n",
    "# y = df_train[obj_col]\n",
    "# train_df = feature_engineering(df_train).drop(drop_cols + [obj_col], axis=1)\n",
    "# test_df = feature_engineering(df_test).drop(drop_cols, axis=1)\n",
    "# train_df, test_df, mappings = to_category(train_df, test_df)"
   ]
  },
  {
   "cell_type": "code",
   "execution_count": 24,
   "id": "5aab8e36",
   "metadata": {},
   "outputs": [],
   "source": [
    "def input_data(\n",
    "    raw_data: pd.DataFrame, # just loaded raw dataframe, could be fron anywhere\n",
    "    cols: List[str], # columns from the dataframe to consider and sanitize. Must contain index_col.\n",
    "    index_col: str # column to use as unique index\n",
    ") -> pd.DataFrame: # sanitized dataframe\n",
    "    df = raw_data.copy()[cols]\n",
    "    df.columns = _sanitize_columns(cols)\n",
    "    return df.set_index(index_col)"
   ]
  },
  {
   "cell_type": "code",
   "execution_count": 25,
   "id": "81f9137d",
   "metadata": {},
   "outputs": [],
   "source": [
    "def target(\n",
    "    input_data: pd.DataFrame, # input dataframe,\n",
    "    target_col: str # this is the column that we want from the dataframe\n",
    ") -> pd.Series: # return series corresponding to target\n",
    "    return input_data[target_col]"
   ]
  },
  {
   "cell_type": "code",
   "execution_count": 26,
   "id": "62661193",
   "metadata": {},
   "outputs": [],
   "source": [
    "def features(\n",
    "    input_data: pd.DataFrame, # input dataframe,\n",
    "    target_col: str, # this is the column that we want to take out from the dataframe\n",
    ") -> pd.DataFrame: # return dataframe corresponding to the feature matrix\n",
    "    if target_col in input_data.columns:\n",
    "        return input_data.drop([target_col], axis=1)\n",
    "    return input_data"
   ]
  },
  {
   "cell_type": "code",
   "execution_count": 27,
   "id": "864d94f5",
   "metadata": {},
   "outputs": [],
   "source": [
    "def cabin_t(\n",
    "    cabin: pd.Series # raw cabin info\n",
    ") -> pd.Series: # transformed cabin info\n",
    "    return cabin.apply(lambda x: x[:1] if x is not np.nan else np.nan)"
   ]
  },
  {
   "cell_type": "code",
   "execution_count": 28,
   "id": "29c25045",
   "metadata": {},
   "outputs": [],
   "source": [
    "def ticket_t(\n",
    "    ticket: pd.Series # raw ticket number\n",
    ") -> pd.Series: # transformed ticket number\n",
    "    return ticket.apply(lambda x: str(x).split()[0])"
   ]
  },
  {
   "cell_type": "code",
   "execution_count": 29,
   "id": "9b66f26c",
   "metadata": {},
   "outputs": [],
   "source": [
    "def family(\n",
    "    sibsp: pd.Series, # number of siblings\n",
    "    parch: pd.Series # number of parents/children\n",
    ") -> pd.Series: # number of people in family\n",
    "    return sibsp + parch"
   ]
  },
  {
   "cell_type": "code",
   "execution_count": 30,
   "id": "6c095b03",
   "metadata": {},
   "outputs": [],
   "source": [
    "def _label_encoder(\n",
    "    input_series: pd.Series # series to categorize\n",
    ") -> preprocessing.LabelEncoder: # sklearn label encoder\n",
    "    le = preprocessing.LabelEncoder()\n",
    "    le.fit(input_series)\n",
    "    return le"
   ]
  },
  {
   "cell_type": "code",
   "execution_count": 31,
   "id": "e8d49a6f",
   "metadata": {},
   "outputs": [],
   "source": [
    "def _label_transformer(\n",
    "    fit_le: preprocessing.LabelEncoder, # a fit label encoder\n",
    "    input_series: pd.Series # series to transform \n",
    ") -> pd.Series: # transformed series\n",
    "    return fit_le.transform(input_series)"
   ]
  },
  {
   "cell_type": "code",
   "execution_count": 32,
   "id": "dc59a294",
   "metadata": {},
   "outputs": [],
   "source": [
    "def transformed_features(\n",
    "    universe: pd.DataFrame, # a dataframe with categorical columns that capture all categorical levels\n",
    "    features: pd.DataFrame, # input feature matrix\n",
    "    cat_cols: List[str], # columns to categorize)\n",
    "    cabin_t: pd.Series, # transformed cabin number\n",
    "    ticket_t: pd.Series, # transformed ticket number\n",
    "    labelencoders = Union[List[preprocessing.LabelEncoder], None] # Label Encoders if fit, else None\n",
    ") -> Tuple[pd.DataFrame, List[preprocessing.LabelEncoder]] : # engineered features and labelencoders\n",
    "    df = features.copy().drop(['cabin', 'ticket']+cat_cols, axis=1)\n",
    "    df['cabin'] = cabin_t\n",
    "    df['ticket'] = ticket_t\n",
    "    if labelencoders is None:\n",
    "        les = [None]*len(cat_cols)\n",
    "    else:\n",
    "        les = labelencoders\n",
    "    againles = []\n",
    "    for col, le in zip(cat_cols, les):\n",
    "        if le == None:\n",
    "            le = _label_encoder(universe[col])\n",
    "        df[col] = _label_transformer(le, features[col])\n",
    "        againles.append(le)\n",
    "    return df, againles"
   ]
  },
  {
   "cell_type": "code",
   "execution_count": 33,
   "id": "30dece53",
   "metadata": {},
   "outputs": [],
   "source": [
    "def engineered_features(\n",
    "    transformed_features: pd.DataFrame, # feature matrix with some columns trandformed\n",
    "    family: pd.Series, # newly creates family column\n",
    ") -> pd.DataFrame: # dataframe with dropped columns ready to feed into model\n",
    "    df = transformed_features.copy()\n",
    "    df['family'] = family\n",
    "    return df"
   ]
  },
  {
   "cell_type": "code",
   "execution_count": 34,
   "id": "d5f7a1e6",
   "metadata": {},
   "outputs": [],
   "source": [
    "def dropped_features(\n",
    "    engineered_features: pd.DataFrame, # feature matrix with engineered features added in\n",
    "    drop_cols: List[str], # these are the columns we want to drop\n",
    ") -> pd.DataFrame: # dataframe with dropped columns\n",
    "    df = engineered_features.copy()\n",
    "    return df.drop(drop_cols, axis=1)\n",
    "\n"
   ]
  },
  {
   "cell_type": "code",
   "execution_count": 35,
   "id": "bc95301d",
   "metadata": {},
   "outputs": [],
   "source": [
    "def final_imputed_features(\n",
    "    dropped_features: pd.DataFrame, # feature matrix with features dropped\n",
    ") -> pd.DataFrame: # dataframe with imputed columns ready to feed into model\n",
    "    df = dropped_features.copy()\n",
    "    return df.fillna(0)"
   ]
  },
  {
   "cell_type": "markdown",
   "id": "b3da1c79",
   "metadata": {},
   "source": [
    "### for Data Splits"
   ]
  },
  {
   "cell_type": "code",
   "execution_count": 36,
   "id": "8d1c91a6",
   "metadata": {},
   "outputs": [],
   "source": [
    "def train_valid_split_func(\n",
    "    final_imputed_features: pd.DataFrame, # feature matrix\n",
    "    target: pd.Series, # the target or the y\n",
    "    validation_size_fraction: float, # the validation fraction\n",
    "    random_state: int, # random state for reproducibility\n",
    "    stratify: pd.Series, # series whose values we use to stratify by\n",
    ") -> Tuple[List[pd.DataFrame], List[pd.Series]]: # dictionary of dataframes and Series\n",
    "    \"\"\"Function that creates the training & test splits.\n",
    "    It this then extracted out into constituent components and used downstream.\n",
    "    \"\"\"\n",
    "    X_train, X_test, y_train, y_test = train_test_split(\n",
    "        final_imputed_features, target, test_size=validation_size_fraction, stratify=stratify\n",
    "    )\n",
    "    return [X_train, X_test], [y_train, y_test]\n"
   ]
  },
  {
   "cell_type": "markdown",
   "id": "3a4cf999",
   "metadata": {},
   "source": [
    "## Working On Actual Data\n",
    "\n",
    "Our test set here actually has no ground truth. We'll thus use the original training set and split it up into train and validation. "
   ]
  },
  {
   "cell_type": "code",
   "execution_count": 37,
   "id": "f5402bfd",
   "metadata": {},
   "outputs": [],
   "source": [
    "def data__csv(\n",
    "    path: str # path to csv file\n",
    ") -> pd.DataFrame: # dataframe read from csv file\n",
    "    return pd.read_csv(path)"
   ]
  },
  {
   "cell_type": "code",
   "execution_count": 38,
   "id": "d0270344",
   "metadata": {},
   "outputs": [
    {
     "name": "stdout",
     "output_type": "stream",
     "text": [
      "Loading data...\n"
     ]
    },
    {
     "data": {
      "text/html": [
       "<div>\n",
       "<style scoped>\n",
       "    .dataframe tbody tr th:only-of-type {\n",
       "        vertical-align: middle;\n",
       "    }\n",
       "\n",
       "    .dataframe tbody tr th {\n",
       "        vertical-align: top;\n",
       "    }\n",
       "\n",
       "    .dataframe thead th {\n",
       "        text-align: right;\n",
       "    }\n",
       "</style>\n",
       "<table border=\"1\" class=\"dataframe\">\n",
       "  <thead>\n",
       "    <tr style=\"text-align: right;\">\n",
       "      <th></th>\n",
       "      <th>survived</th>\n",
       "      <th>pclass</th>\n",
       "      <th>name</th>\n",
       "      <th>sex</th>\n",
       "      <th>age</th>\n",
       "      <th>sibsp</th>\n",
       "      <th>parch</th>\n",
       "      <th>ticket</th>\n",
       "      <th>fare</th>\n",
       "      <th>cabin</th>\n",
       "      <th>embarked</th>\n",
       "    </tr>\n",
       "    <tr>\n",
       "      <th>passengerid</th>\n",
       "      <th></th>\n",
       "      <th></th>\n",
       "      <th></th>\n",
       "      <th></th>\n",
       "      <th></th>\n",
       "      <th></th>\n",
       "      <th></th>\n",
       "      <th></th>\n",
       "      <th></th>\n",
       "      <th></th>\n",
       "      <th></th>\n",
       "    </tr>\n",
       "  </thead>\n",
       "  <tbody>\n",
       "    <tr>\n",
       "      <th>0</th>\n",
       "      <td>1</td>\n",
       "      <td>1</td>\n",
       "      <td>Oconnor, Frankie</td>\n",
       "      <td>male</td>\n",
       "      <td>NaN</td>\n",
       "      <td>2</td>\n",
       "      <td>0</td>\n",
       "      <td>209245</td>\n",
       "      <td>27.14</td>\n",
       "      <td>C12239</td>\n",
       "      <td>S</td>\n",
       "    </tr>\n",
       "    <tr>\n",
       "      <th>1</th>\n",
       "      <td>0</td>\n",
       "      <td>3</td>\n",
       "      <td>Bryan, Drew</td>\n",
       "      <td>male</td>\n",
       "      <td>NaN</td>\n",
       "      <td>0</td>\n",
       "      <td>0</td>\n",
       "      <td>27323</td>\n",
       "      <td>13.35</td>\n",
       "      <td>NaN</td>\n",
       "      <td>S</td>\n",
       "    </tr>\n",
       "    <tr>\n",
       "      <th>2</th>\n",
       "      <td>0</td>\n",
       "      <td>3</td>\n",
       "      <td>Owens, Kenneth</td>\n",
       "      <td>male</td>\n",
       "      <td>0.33</td>\n",
       "      <td>1</td>\n",
       "      <td>2</td>\n",
       "      <td>CA 457703</td>\n",
       "      <td>71.29</td>\n",
       "      <td>NaN</td>\n",
       "      <td>S</td>\n",
       "    </tr>\n",
       "    <tr>\n",
       "      <th>3</th>\n",
       "      <td>0</td>\n",
       "      <td>3</td>\n",
       "      <td>Kramer, James</td>\n",
       "      <td>male</td>\n",
       "      <td>19.00</td>\n",
       "      <td>0</td>\n",
       "      <td>0</td>\n",
       "      <td>A. 10866</td>\n",
       "      <td>13.04</td>\n",
       "      <td>NaN</td>\n",
       "      <td>S</td>\n",
       "    </tr>\n",
       "    <tr>\n",
       "      <th>4</th>\n",
       "      <td>1</td>\n",
       "      <td>3</td>\n",
       "      <td>Bond, Michael</td>\n",
       "      <td>male</td>\n",
       "      <td>25.00</td>\n",
       "      <td>0</td>\n",
       "      <td>0</td>\n",
       "      <td>427635</td>\n",
       "      <td>7.76</td>\n",
       "      <td>NaN</td>\n",
       "      <td>S</td>\n",
       "    </tr>\n",
       "    <tr>\n",
       "      <th>...</th>\n",
       "      <td>...</td>\n",
       "      <td>...</td>\n",
       "      <td>...</td>\n",
       "      <td>...</td>\n",
       "      <td>...</td>\n",
       "      <td>...</td>\n",
       "      <td>...</td>\n",
       "      <td>...</td>\n",
       "      <td>...</td>\n",
       "      <td>...</td>\n",
       "      <td>...</td>\n",
       "    </tr>\n",
       "    <tr>\n",
       "      <th>99995</th>\n",
       "      <td>1</td>\n",
       "      <td>2</td>\n",
       "      <td>Bell, Adele</td>\n",
       "      <td>female</td>\n",
       "      <td>62.00</td>\n",
       "      <td>0</td>\n",
       "      <td>0</td>\n",
       "      <td>PC 15008</td>\n",
       "      <td>14.86</td>\n",
       "      <td>D17243</td>\n",
       "      <td>C</td>\n",
       "    </tr>\n",
       "    <tr>\n",
       "      <th>99996</th>\n",
       "      <td>0</td>\n",
       "      <td>2</td>\n",
       "      <td>Brown, Herman</td>\n",
       "      <td>male</td>\n",
       "      <td>66.00</td>\n",
       "      <td>0</td>\n",
       "      <td>0</td>\n",
       "      <td>13273</td>\n",
       "      <td>11.15</td>\n",
       "      <td>NaN</td>\n",
       "      <td>S</td>\n",
       "    </tr>\n",
       "    <tr>\n",
       "      <th>99997</th>\n",
       "      <td>0</td>\n",
       "      <td>3</td>\n",
       "      <td>Childress, Charles</td>\n",
       "      <td>male</td>\n",
       "      <td>37.00</td>\n",
       "      <td>0</td>\n",
       "      <td>0</td>\n",
       "      <td>NaN</td>\n",
       "      <td>9.95</td>\n",
       "      <td>NaN</td>\n",
       "      <td>S</td>\n",
       "    </tr>\n",
       "    <tr>\n",
       "      <th>99998</th>\n",
       "      <td>0</td>\n",
       "      <td>3</td>\n",
       "      <td>Caughlin, Thomas</td>\n",
       "      <td>male</td>\n",
       "      <td>51.00</td>\n",
       "      <td>0</td>\n",
       "      <td>1</td>\n",
       "      <td>458654</td>\n",
       "      <td>30.92</td>\n",
       "      <td>NaN</td>\n",
       "      <td>S</td>\n",
       "    </tr>\n",
       "    <tr>\n",
       "      <th>99999</th>\n",
       "      <td>0</td>\n",
       "      <td>3</td>\n",
       "      <td>Enciso, Tyler</td>\n",
       "      <td>male</td>\n",
       "      <td>55.00</td>\n",
       "      <td>0</td>\n",
       "      <td>0</td>\n",
       "      <td>458074</td>\n",
       "      <td>13.96</td>\n",
       "      <td>NaN</td>\n",
       "      <td>S</td>\n",
       "    </tr>\n",
       "  </tbody>\n",
       "</table>\n",
       "<p>100000 rows × 11 columns</p>\n",
       "</div>"
      ],
      "text/plain": [
       "             survived  pclass                name     sex    age  sibsp  \\\n",
       "passengerid                                                               \n",
       "0                   1       1    Oconnor, Frankie    male    NaN      2   \n",
       "1                   0       3         Bryan, Drew    male    NaN      0   \n",
       "2                   0       3      Owens, Kenneth    male   0.33      1   \n",
       "3                   0       3       Kramer, James    male  19.00      0   \n",
       "4                   1       3       Bond, Michael    male  25.00      0   \n",
       "...               ...     ...                 ...     ...    ...    ...   \n",
       "99995               1       2         Bell, Adele  female  62.00      0   \n",
       "99996               0       2       Brown, Herman    male  66.00      0   \n",
       "99997               0       3  Childress, Charles    male  37.00      0   \n",
       "99998               0       3    Caughlin, Thomas    male  51.00      0   \n",
       "99999               0       3       Enciso, Tyler    male  55.00      0   \n",
       "\n",
       "             parch     ticket   fare   cabin embarked  \n",
       "passengerid                                            \n",
       "0                0     209245  27.14  C12239        S  \n",
       "1                0      27323  13.35     NaN        S  \n",
       "2                2  CA 457703  71.29     NaN        S  \n",
       "3                0   A. 10866  13.04     NaN        S  \n",
       "4                0     427635   7.76     NaN        S  \n",
       "...            ...        ...    ...     ...      ...  \n",
       "99995            0   PC 15008  14.86  D17243        C  \n",
       "99996            0      13273  11.15     NaN        S  \n",
       "99997            0        NaN   9.95     NaN        S  \n",
       "99998            1     458654  30.92     NaN        S  \n",
       "99999            0     458074  13.96     NaN        S  \n",
       "\n",
       "[100000 rows x 11 columns]"
      ]
     },
     "execution_count": 38,
     "metadata": {},
     "output_type": "execute_result"
    }
   ],
   "source": [
    "print(\"Loading data...\")\n",
    "df_train = data__csv(train_df_path)\n",
    "inputdata = input_data(df_train, cols, index_col)\n",
    "inputdata"
   ]
  },
  {
   "cell_type": "code",
   "execution_count": 39,
   "id": "23d401e8",
   "metadata": {},
   "outputs": [],
   "source": [
    "df_test = data__csv(test_df_path)"
   ]
  },
  {
   "cell_type": "markdown",
   "id": "47b03f52",
   "metadata": {},
   "source": [
    "### Feature Engineering"
   ]
  },
  {
   "cell_type": "code",
   "execution_count": 40,
   "id": "0ddb6310",
   "metadata": {},
   "outputs": [
    {
     "data": {
      "text/plain": [
       "passengerid\n",
       "0        1\n",
       "1        0\n",
       "2        0\n",
       "3        0\n",
       "4        1\n",
       "        ..\n",
       "99995    1\n",
       "99996    0\n",
       "99997    0\n",
       "99998    0\n",
       "99999    0\n",
       "Name: survived, Length: 100000, dtype: int64"
      ]
     },
     "execution_count": 40,
     "metadata": {},
     "output_type": "execute_result"
    }
   ],
   "source": [
    "y = target(inputdata, target_col)\n",
    "y"
   ]
  },
  {
   "cell_type": "code",
   "execution_count": 41,
   "id": "fb85e321",
   "metadata": {},
   "outputs": [
    {
     "data": {
      "text/html": [
       "<div>\n",
       "<style scoped>\n",
       "    .dataframe tbody tr th:only-of-type {\n",
       "        vertical-align: middle;\n",
       "    }\n",
       "\n",
       "    .dataframe tbody tr th {\n",
       "        vertical-align: top;\n",
       "    }\n",
       "\n",
       "    .dataframe thead th {\n",
       "        text-align: right;\n",
       "    }\n",
       "</style>\n",
       "<table border=\"1\" class=\"dataframe\">\n",
       "  <thead>\n",
       "    <tr style=\"text-align: right;\">\n",
       "      <th></th>\n",
       "      <th>pclass</th>\n",
       "      <th>name</th>\n",
       "      <th>sex</th>\n",
       "      <th>age</th>\n",
       "      <th>sibsp</th>\n",
       "      <th>parch</th>\n",
       "      <th>ticket</th>\n",
       "      <th>fare</th>\n",
       "      <th>cabin</th>\n",
       "      <th>embarked</th>\n",
       "    </tr>\n",
       "    <tr>\n",
       "      <th>passengerid</th>\n",
       "      <th></th>\n",
       "      <th></th>\n",
       "      <th></th>\n",
       "      <th></th>\n",
       "      <th></th>\n",
       "      <th></th>\n",
       "      <th></th>\n",
       "      <th></th>\n",
       "      <th></th>\n",
       "      <th></th>\n",
       "    </tr>\n",
       "  </thead>\n",
       "  <tbody>\n",
       "    <tr>\n",
       "      <th>0</th>\n",
       "      <td>1</td>\n",
       "      <td>Oconnor, Frankie</td>\n",
       "      <td>male</td>\n",
       "      <td>NaN</td>\n",
       "      <td>2</td>\n",
       "      <td>0</td>\n",
       "      <td>209245</td>\n",
       "      <td>27.14</td>\n",
       "      <td>C12239</td>\n",
       "      <td>S</td>\n",
       "    </tr>\n",
       "    <tr>\n",
       "      <th>1</th>\n",
       "      <td>3</td>\n",
       "      <td>Bryan, Drew</td>\n",
       "      <td>male</td>\n",
       "      <td>NaN</td>\n",
       "      <td>0</td>\n",
       "      <td>0</td>\n",
       "      <td>27323</td>\n",
       "      <td>13.35</td>\n",
       "      <td>NaN</td>\n",
       "      <td>S</td>\n",
       "    </tr>\n",
       "    <tr>\n",
       "      <th>2</th>\n",
       "      <td>3</td>\n",
       "      <td>Owens, Kenneth</td>\n",
       "      <td>male</td>\n",
       "      <td>0.33</td>\n",
       "      <td>1</td>\n",
       "      <td>2</td>\n",
       "      <td>CA 457703</td>\n",
       "      <td>71.29</td>\n",
       "      <td>NaN</td>\n",
       "      <td>S</td>\n",
       "    </tr>\n",
       "    <tr>\n",
       "      <th>3</th>\n",
       "      <td>3</td>\n",
       "      <td>Kramer, James</td>\n",
       "      <td>male</td>\n",
       "      <td>19.00</td>\n",
       "      <td>0</td>\n",
       "      <td>0</td>\n",
       "      <td>A. 10866</td>\n",
       "      <td>13.04</td>\n",
       "      <td>NaN</td>\n",
       "      <td>S</td>\n",
       "    </tr>\n",
       "    <tr>\n",
       "      <th>4</th>\n",
       "      <td>3</td>\n",
       "      <td>Bond, Michael</td>\n",
       "      <td>male</td>\n",
       "      <td>25.00</td>\n",
       "      <td>0</td>\n",
       "      <td>0</td>\n",
       "      <td>427635</td>\n",
       "      <td>7.76</td>\n",
       "      <td>NaN</td>\n",
       "      <td>S</td>\n",
       "    </tr>\n",
       "    <tr>\n",
       "      <th>...</th>\n",
       "      <td>...</td>\n",
       "      <td>...</td>\n",
       "      <td>...</td>\n",
       "      <td>...</td>\n",
       "      <td>...</td>\n",
       "      <td>...</td>\n",
       "      <td>...</td>\n",
       "      <td>...</td>\n",
       "      <td>...</td>\n",
       "      <td>...</td>\n",
       "    </tr>\n",
       "    <tr>\n",
       "      <th>99995</th>\n",
       "      <td>2</td>\n",
       "      <td>Bell, Adele</td>\n",
       "      <td>female</td>\n",
       "      <td>62.00</td>\n",
       "      <td>0</td>\n",
       "      <td>0</td>\n",
       "      <td>PC 15008</td>\n",
       "      <td>14.86</td>\n",
       "      <td>D17243</td>\n",
       "      <td>C</td>\n",
       "    </tr>\n",
       "    <tr>\n",
       "      <th>99996</th>\n",
       "      <td>2</td>\n",
       "      <td>Brown, Herman</td>\n",
       "      <td>male</td>\n",
       "      <td>66.00</td>\n",
       "      <td>0</td>\n",
       "      <td>0</td>\n",
       "      <td>13273</td>\n",
       "      <td>11.15</td>\n",
       "      <td>NaN</td>\n",
       "      <td>S</td>\n",
       "    </tr>\n",
       "    <tr>\n",
       "      <th>99997</th>\n",
       "      <td>3</td>\n",
       "      <td>Childress, Charles</td>\n",
       "      <td>male</td>\n",
       "      <td>37.00</td>\n",
       "      <td>0</td>\n",
       "      <td>0</td>\n",
       "      <td>NaN</td>\n",
       "      <td>9.95</td>\n",
       "      <td>NaN</td>\n",
       "      <td>S</td>\n",
       "    </tr>\n",
       "    <tr>\n",
       "      <th>99998</th>\n",
       "      <td>3</td>\n",
       "      <td>Caughlin, Thomas</td>\n",
       "      <td>male</td>\n",
       "      <td>51.00</td>\n",
       "      <td>0</td>\n",
       "      <td>1</td>\n",
       "      <td>458654</td>\n",
       "      <td>30.92</td>\n",
       "      <td>NaN</td>\n",
       "      <td>S</td>\n",
       "    </tr>\n",
       "    <tr>\n",
       "      <th>99999</th>\n",
       "      <td>3</td>\n",
       "      <td>Enciso, Tyler</td>\n",
       "      <td>male</td>\n",
       "      <td>55.00</td>\n",
       "      <td>0</td>\n",
       "      <td>0</td>\n",
       "      <td>458074</td>\n",
       "      <td>13.96</td>\n",
       "      <td>NaN</td>\n",
       "      <td>S</td>\n",
       "    </tr>\n",
       "  </tbody>\n",
       "</table>\n",
       "<p>100000 rows × 10 columns</p>\n",
       "</div>"
      ],
      "text/plain": [
       "             pclass                name     sex    age  sibsp  parch  \\\n",
       "passengerid                                                            \n",
       "0                 1    Oconnor, Frankie    male    NaN      2      0   \n",
       "1                 3         Bryan, Drew    male    NaN      0      0   \n",
       "2                 3      Owens, Kenneth    male   0.33      1      2   \n",
       "3                 3       Kramer, James    male  19.00      0      0   \n",
       "4                 3       Bond, Michael    male  25.00      0      0   \n",
       "...             ...                 ...     ...    ...    ...    ...   \n",
       "99995             2         Bell, Adele  female  62.00      0      0   \n",
       "99996             2       Brown, Herman    male  66.00      0      0   \n",
       "99997             3  Childress, Charles    male  37.00      0      0   \n",
       "99998             3    Caughlin, Thomas    male  51.00      0      1   \n",
       "99999             3       Enciso, Tyler    male  55.00      0      0   \n",
       "\n",
       "                ticket   fare   cabin embarked  \n",
       "passengerid                                     \n",
       "0               209245  27.14  C12239        S  \n",
       "1                27323  13.35     NaN        S  \n",
       "2            CA 457703  71.29     NaN        S  \n",
       "3             A. 10866  13.04     NaN        S  \n",
       "4               427635   7.76     NaN        S  \n",
       "...                ...    ...     ...      ...  \n",
       "99995         PC 15008  14.86  D17243        C  \n",
       "99996            13273  11.15     NaN        S  \n",
       "99997              NaN   9.95     NaN        S  \n",
       "99998           458654  30.92     NaN        S  \n",
       "99999           458074  13.96     NaN        S  \n",
       "\n",
       "[100000 rows x 10 columns]"
      ]
     },
     "execution_count": 41,
     "metadata": {},
     "output_type": "execute_result"
    }
   ],
   "source": [
    "X = features(inputdata, target_col)\n",
    "X"
   ]
  },
  {
   "cell_type": "code",
   "execution_count": 42,
   "id": "172eb7c7",
   "metadata": {},
   "outputs": [
    {
     "data": {
      "text/html": [
       "<div>\n",
       "<style scoped>\n",
       "    .dataframe tbody tr th:only-of-type {\n",
       "        vertical-align: middle;\n",
       "    }\n",
       "\n",
       "    .dataframe tbody tr th {\n",
       "        vertical-align: top;\n",
       "    }\n",
       "\n",
       "    .dataframe thead th {\n",
       "        text-align: right;\n",
       "    }\n",
       "</style>\n",
       "<table border=\"1\" class=\"dataframe\">\n",
       "  <thead>\n",
       "    <tr style=\"text-align: right;\">\n",
       "      <th></th>\n",
       "      <th>sex</th>\n",
       "      <th>ticket</th>\n",
       "      <th>embarked</th>\n",
       "      <th>parch</th>\n",
       "      <th>cabin</th>\n",
       "      <th>age</th>\n",
       "      <th>pclass</th>\n",
       "      <th>fare</th>\n",
       "      <th>name</th>\n",
       "      <th>sibsp</th>\n",
       "    </tr>\n",
       "    <tr>\n",
       "      <th>passengerid</th>\n",
       "      <th></th>\n",
       "      <th></th>\n",
       "      <th></th>\n",
       "      <th></th>\n",
       "      <th></th>\n",
       "      <th></th>\n",
       "      <th></th>\n",
       "      <th></th>\n",
       "      <th></th>\n",
       "      <th></th>\n",
       "    </tr>\n",
       "  </thead>\n",
       "  <tbody>\n",
       "    <tr>\n",
       "      <th>100000</th>\n",
       "      <td>male</td>\n",
       "      <td>24745</td>\n",
       "      <td>S</td>\n",
       "      <td>0</td>\n",
       "      <td>NaN</td>\n",
       "      <td>19.0</td>\n",
       "      <td>3</td>\n",
       "      <td>63.01</td>\n",
       "      <td>Holliday, Daniel</td>\n",
       "      <td>0</td>\n",
       "    </tr>\n",
       "    <tr>\n",
       "      <th>100001</th>\n",
       "      <td>female</td>\n",
       "      <td>13264</td>\n",
       "      <td>S</td>\n",
       "      <td>0</td>\n",
       "      <td>NaN</td>\n",
       "      <td>53.0</td>\n",
       "      <td>3</td>\n",
       "      <td>5.81</td>\n",
       "      <td>Nguyen, Lorraine</td>\n",
       "      <td>0</td>\n",
       "    </tr>\n",
       "    <tr>\n",
       "      <th>100002</th>\n",
       "      <td>female</td>\n",
       "      <td>25990</td>\n",
       "      <td>C</td>\n",
       "      <td>0</td>\n",
       "      <td>B15315</td>\n",
       "      <td>19.0</td>\n",
       "      <td>1</td>\n",
       "      <td>38.91</td>\n",
       "      <td>Harris, Heather</td>\n",
       "      <td>0</td>\n",
       "    </tr>\n",
       "    <tr>\n",
       "      <th>100003</th>\n",
       "      <td>male</td>\n",
       "      <td>314011</td>\n",
       "      <td>S</td>\n",
       "      <td>0</td>\n",
       "      <td>NaN</td>\n",
       "      <td>25.0</td>\n",
       "      <td>2</td>\n",
       "      <td>12.93</td>\n",
       "      <td>Larsen, Eric</td>\n",
       "      <td>0</td>\n",
       "    </tr>\n",
       "    <tr>\n",
       "      <th>100004</th>\n",
       "      <td>female</td>\n",
       "      <td>26203</td>\n",
       "      <td>C</td>\n",
       "      <td>2</td>\n",
       "      <td>B22515</td>\n",
       "      <td>17.0</td>\n",
       "      <td>1</td>\n",
       "      <td>26.89</td>\n",
       "      <td>Cleary, Sarah</td>\n",
       "      <td>0</td>\n",
       "    </tr>\n",
       "    <tr>\n",
       "      <th>...</th>\n",
       "      <td>...</td>\n",
       "      <td>...</td>\n",
       "      <td>...</td>\n",
       "      <td>...</td>\n",
       "      <td>...</td>\n",
       "      <td>...</td>\n",
       "      <td>...</td>\n",
       "      <td>...</td>\n",
       "      <td>...</td>\n",
       "      <td>...</td>\n",
       "    </tr>\n",
       "    <tr>\n",
       "      <th>199995</th>\n",
       "      <td>female</td>\n",
       "      <td>7686</td>\n",
       "      <td>Q</td>\n",
       "      <td>0</td>\n",
       "      <td>NaN</td>\n",
       "      <td>27.0</td>\n",
       "      <td>3</td>\n",
       "      <td>10.12</td>\n",
       "      <td>Cash, Cheryle</td>\n",
       "      <td>0</td>\n",
       "    </tr>\n",
       "    <tr>\n",
       "      <th>199996</th>\n",
       "      <td>male</td>\n",
       "      <td>13004</td>\n",
       "      <td>S</td>\n",
       "      <td>0</td>\n",
       "      <td>NaN</td>\n",
       "      <td>59.0</td>\n",
       "      <td>1</td>\n",
       "      <td>68.31</td>\n",
       "      <td>Brown, Howard</td>\n",
       "      <td>1</td>\n",
       "    </tr>\n",
       "    <tr>\n",
       "      <th>199997</th>\n",
       "      <td>male</td>\n",
       "      <td>4383317</td>\n",
       "      <td>S</td>\n",
       "      <td>0</td>\n",
       "      <td>NaN</td>\n",
       "      <td>47.0</td>\n",
       "      <td>3</td>\n",
       "      <td>10.87</td>\n",
       "      <td>Lightfoot, Cameron</td>\n",
       "      <td>0</td>\n",
       "    </tr>\n",
       "    <tr>\n",
       "      <th>199998</th>\n",
       "      <td>female</td>\n",
       "      <td>PC 26988</td>\n",
       "      <td>C</td>\n",
       "      <td>2</td>\n",
       "      <td>B20828</td>\n",
       "      <td>49.0</td>\n",
       "      <td>1</td>\n",
       "      <td>29.68</td>\n",
       "      <td>Jacobsen, Margaret</td>\n",
       "      <td>1</td>\n",
       "    </tr>\n",
       "    <tr>\n",
       "      <th>199999</th>\n",
       "      <td>female</td>\n",
       "      <td>PC 41824</td>\n",
       "      <td>C</td>\n",
       "      <td>2</td>\n",
       "      <td>E13345</td>\n",
       "      <td>41.0</td>\n",
       "      <td>1</td>\n",
       "      <td>195.41</td>\n",
       "      <td>Fishback, Joanna</td>\n",
       "      <td>0</td>\n",
       "    </tr>\n",
       "  </tbody>\n",
       "</table>\n",
       "<p>100000 rows × 10 columns</p>\n",
       "</div>"
      ],
      "text/plain": [
       "                sex    ticket embarked  parch   cabin   age  pclass    fare  \\\n",
       "passengerid                                                                   \n",
       "100000         male     24745        S      0     NaN  19.0       3   63.01   \n",
       "100001       female     13264        S      0     NaN  53.0       3    5.81   \n",
       "100002       female     25990        C      0  B15315  19.0       1   38.91   \n",
       "100003         male    314011        S      0     NaN  25.0       2   12.93   \n",
       "100004       female     26203        C      2  B22515  17.0       1   26.89   \n",
       "...             ...       ...      ...    ...     ...   ...     ...     ...   \n",
       "199995       female      7686        Q      0     NaN  27.0       3   10.12   \n",
       "199996         male     13004        S      0     NaN  59.0       1   68.31   \n",
       "199997         male   4383317        S      0     NaN  47.0       3   10.87   \n",
       "199998       female  PC 26988        C      2  B20828  49.0       1   29.68   \n",
       "199999       female  PC 41824        C      2  E13345  41.0       1  195.41   \n",
       "\n",
       "                           name  sibsp  \n",
       "passengerid                             \n",
       "100000         Holliday, Daniel      0  \n",
       "100001         Nguyen, Lorraine      0  \n",
       "100002          Harris, Heather      0  \n",
       "100003             Larsen, Eric      0  \n",
       "100004            Cleary, Sarah      0  \n",
       "...                         ...    ...  \n",
       "199995            Cash, Cheryle      0  \n",
       "199996            Brown, Howard      1  \n",
       "199997       Lightfoot, Cameron      0  \n",
       "199998       Jacobsen, Margaret      1  \n",
       "199999         Fishback, Joanna      0  \n",
       "\n",
       "[100000 rows x 10 columns]"
      ]
     },
     "execution_count": 42,
     "metadata": {},
     "output_type": "execute_result"
    }
   ],
   "source": [
    "testdata = features(input_data(df_test, cols_test, index_col), target_col)\n",
    "testdata"
   ]
  },
  {
   "cell_type": "code",
   "execution_count": 43,
   "id": "d03563dd",
   "metadata": {},
   "outputs": [],
   "source": [
    "Xtrans, les = transformed_features(\n",
    "    pd.concat([X[cat_cols], testdata[cat_cols]], axis=0),\n",
    "    X,\n",
    "    cat_cols,\n",
    "    cabin_t(X.cabin),\n",
    "    ticket_t(X.ticket),\n",
    "    None\n",
    ") "
   ]
  },
  {
   "cell_type": "code",
   "execution_count": 44,
   "id": "5779f188",
   "metadata": {},
   "outputs": [
    {
     "data": {
      "text/plain": [
       "[LabelEncoder(), LabelEncoder(), LabelEncoder()]"
      ]
     },
     "execution_count": 44,
     "metadata": {},
     "output_type": "execute_result"
    }
   ],
   "source": [
    "les"
   ]
  },
  {
   "cell_type": "code",
   "execution_count": 45,
   "id": "13733065",
   "metadata": {},
   "outputs": [],
   "source": [
    "Xeng = engineered_features(\n",
    "    Xtrans,\n",
    "    family(Xtrans.sibsp, Xtrans.parch),\n",
    ")"
   ]
  },
  {
   "cell_type": "code",
   "execution_count": 46,
   "id": "7220a8e5",
   "metadata": {},
   "outputs": [],
   "source": [
    "Xdrop = dropped_features(\n",
    "    Xeng,\n",
    "    drop_cols\n",
    ")"
   ]
  },
  {
   "cell_type": "code",
   "execution_count": 47,
   "id": "ff646cc6",
   "metadata": {},
   "outputs": [
    {
     "data": {
      "text/html": [
       "<div>\n",
       "<style scoped>\n",
       "    .dataframe tbody tr th:only-of-type {\n",
       "        vertical-align: middle;\n",
       "    }\n",
       "\n",
       "    .dataframe tbody tr th {\n",
       "        vertical-align: top;\n",
       "    }\n",
       "\n",
       "    .dataframe thead th {\n",
       "        text-align: right;\n",
       "    }\n",
       "</style>\n",
       "<table border=\"1\" class=\"dataframe\">\n",
       "  <thead>\n",
       "    <tr style=\"text-align: right;\">\n",
       "      <th></th>\n",
       "      <th>pclass</th>\n",
       "      <th>age</th>\n",
       "      <th>fare</th>\n",
       "      <th>cabin</th>\n",
       "      <th>sex</th>\n",
       "      <th>embarked</th>\n",
       "      <th>family</th>\n",
       "    </tr>\n",
       "    <tr>\n",
       "      <th>passengerid</th>\n",
       "      <th></th>\n",
       "      <th></th>\n",
       "      <th></th>\n",
       "      <th></th>\n",
       "      <th></th>\n",
       "      <th></th>\n",
       "      <th></th>\n",
       "    </tr>\n",
       "  </thead>\n",
       "  <tbody>\n",
       "    <tr>\n",
       "      <th>0</th>\n",
       "      <td>1</td>\n",
       "      <td>0.00</td>\n",
       "      <td>27.14</td>\n",
       "      <td>22424</td>\n",
       "      <td>1</td>\n",
       "      <td>2</td>\n",
       "      <td>2</td>\n",
       "    </tr>\n",
       "    <tr>\n",
       "      <th>1</th>\n",
       "      <td>3</td>\n",
       "      <td>0.00</td>\n",
       "      <td>13.35</td>\n",
       "      <td>45442</td>\n",
       "      <td>1</td>\n",
       "      <td>2</td>\n",
       "      <td>0</td>\n",
       "    </tr>\n",
       "    <tr>\n",
       "      <th>2</th>\n",
       "      <td>3</td>\n",
       "      <td>0.33</td>\n",
       "      <td>71.29</td>\n",
       "      <td>45442</td>\n",
       "      <td>1</td>\n",
       "      <td>2</td>\n",
       "      <td>3</td>\n",
       "    </tr>\n",
       "    <tr>\n",
       "      <th>3</th>\n",
       "      <td>3</td>\n",
       "      <td>19.00</td>\n",
       "      <td>13.04</td>\n",
       "      <td>45442</td>\n",
       "      <td>1</td>\n",
       "      <td>2</td>\n",
       "      <td>0</td>\n",
       "    </tr>\n",
       "    <tr>\n",
       "      <th>4</th>\n",
       "      <td>3</td>\n",
       "      <td>25.00</td>\n",
       "      <td>7.76</td>\n",
       "      <td>45442</td>\n",
       "      <td>1</td>\n",
       "      <td>2</td>\n",
       "      <td>0</td>\n",
       "    </tr>\n",
       "    <tr>\n",
       "      <th>...</th>\n",
       "      <td>...</td>\n",
       "      <td>...</td>\n",
       "      <td>...</td>\n",
       "      <td>...</td>\n",
       "      <td>...</td>\n",
       "      <td>...</td>\n",
       "      <td>...</td>\n",
       "    </tr>\n",
       "    <tr>\n",
       "      <th>99995</th>\n",
       "      <td>2</td>\n",
       "      <td>62.00</td>\n",
       "      <td>14.86</td>\n",
       "      <td>35404</td>\n",
       "      <td>0</td>\n",
       "      <td>0</td>\n",
       "      <td>0</td>\n",
       "    </tr>\n",
       "    <tr>\n",
       "      <th>99996</th>\n",
       "      <td>2</td>\n",
       "      <td>66.00</td>\n",
       "      <td>11.15</td>\n",
       "      <td>45442</td>\n",
       "      <td>1</td>\n",
       "      <td>2</td>\n",
       "      <td>0</td>\n",
       "    </tr>\n",
       "    <tr>\n",
       "      <th>99997</th>\n",
       "      <td>3</td>\n",
       "      <td>37.00</td>\n",
       "      <td>9.95</td>\n",
       "      <td>45442</td>\n",
       "      <td>1</td>\n",
       "      <td>2</td>\n",
       "      <td>0</td>\n",
       "    </tr>\n",
       "    <tr>\n",
       "      <th>99998</th>\n",
       "      <td>3</td>\n",
       "      <td>51.00</td>\n",
       "      <td>30.92</td>\n",
       "      <td>45442</td>\n",
       "      <td>1</td>\n",
       "      <td>2</td>\n",
       "      <td>1</td>\n",
       "    </tr>\n",
       "    <tr>\n",
       "      <th>99999</th>\n",
       "      <td>3</td>\n",
       "      <td>55.00</td>\n",
       "      <td>13.96</td>\n",
       "      <td>45442</td>\n",
       "      <td>1</td>\n",
       "      <td>2</td>\n",
       "      <td>0</td>\n",
       "    </tr>\n",
       "  </tbody>\n",
       "</table>\n",
       "<p>100000 rows × 7 columns</p>\n",
       "</div>"
      ],
      "text/plain": [
       "             pclass    age   fare  cabin  sex  embarked  family\n",
       "passengerid                                                    \n",
       "0                 1   0.00  27.14  22424    1         2       2\n",
       "1                 3   0.00  13.35  45442    1         2       0\n",
       "2                 3   0.33  71.29  45442    1         2       3\n",
       "3                 3  19.00  13.04  45442    1         2       0\n",
       "4                 3  25.00   7.76  45442    1         2       0\n",
       "...             ...    ...    ...    ...  ...       ...     ...\n",
       "99995             2  62.00  14.86  35404    0         0       0\n",
       "99996             2  66.00  11.15  45442    1         2       0\n",
       "99997             3  37.00   9.95  45442    1         2       0\n",
       "99998             3  51.00  30.92  45442    1         2       1\n",
       "99999             3  55.00  13.96  45442    1         2       0\n",
       "\n",
       "[100000 rows x 7 columns]"
      ]
     },
     "execution_count": 47,
     "metadata": {},
     "output_type": "execute_result"
    }
   ],
   "source": [
    "Xfinal = final_imputed_features(Xdrop)\n",
    "Xfinal"
   ]
  },
  {
   "cell_type": "code",
   "execution_count": 48,
   "id": "d836a2ce",
   "metadata": {},
   "outputs": [
    {
     "name": "stdout",
     "output_type": "stream",
     "text": [
      "pclass [1 3 2]\n",
      "sex [1 0]\n",
      "cabin [22424 45442  8550 ... 34213 42249 35404]\n",
      "embarked [2 0 1 3]\n",
      "family [ 2  0  3  1  4  6  5  9  7 10  8 13 11 17 12 14]\n"
     ]
    }
   ],
   "source": [
    "for col in ['pclass', 'sex', 'cabin', 'embarked', 'family']:\n",
    "    print(col, Xfinal[col].unique())"
   ]
  },
  {
   "cell_type": "markdown",
   "id": "e5596345",
   "metadata": {},
   "source": [
    "### Train-Validation Split"
   ]
  },
  {
   "cell_type": "code",
   "execution_count": 49,
   "id": "6137c61d",
   "metadata": {},
   "outputs": [],
   "source": [
    "[X_train, X_valid], [y_train, y_valid] = train_valid_split_func(\n",
    "    Xfinal, y, validation_size_fraction=0.33, random_state=RANDOM_STATE, stratify=y\n",
    ")"
   ]
  },
  {
   "cell_type": "code",
   "execution_count": 50,
   "id": "35025a44",
   "metadata": {},
   "outputs": [
    {
     "data": {
      "text/html": [
       "<div>\n",
       "<style scoped>\n",
       "    .dataframe tbody tr th:only-of-type {\n",
       "        vertical-align: middle;\n",
       "    }\n",
       "\n",
       "    .dataframe tbody tr th {\n",
       "        vertical-align: top;\n",
       "    }\n",
       "\n",
       "    .dataframe thead th {\n",
       "        text-align: right;\n",
       "    }\n",
       "</style>\n",
       "<table border=\"1\" class=\"dataframe\">\n",
       "  <thead>\n",
       "    <tr style=\"text-align: right;\">\n",
       "      <th></th>\n",
       "      <th>pclass</th>\n",
       "      <th>age</th>\n",
       "      <th>fare</th>\n",
       "      <th>cabin</th>\n",
       "      <th>sex</th>\n",
       "      <th>embarked</th>\n",
       "      <th>family</th>\n",
       "    </tr>\n",
       "    <tr>\n",
       "      <th>passengerid</th>\n",
       "      <th></th>\n",
       "      <th></th>\n",
       "      <th></th>\n",
       "      <th></th>\n",
       "      <th></th>\n",
       "      <th></th>\n",
       "      <th></th>\n",
       "    </tr>\n",
       "  </thead>\n",
       "  <tbody>\n",
       "    <tr>\n",
       "      <th>65444</th>\n",
       "      <td>3</td>\n",
       "      <td>33.0</td>\n",
       "      <td>13.10</td>\n",
       "      <td>45442</td>\n",
       "      <td>1</td>\n",
       "      <td>2</td>\n",
       "      <td>0</td>\n",
       "    </tr>\n",
       "    <tr>\n",
       "      <th>57472</th>\n",
       "      <td>3</td>\n",
       "      <td>35.0</td>\n",
       "      <td>9.81</td>\n",
       "      <td>45442</td>\n",
       "      <td>1</td>\n",
       "      <td>2</td>\n",
       "      <td>0</td>\n",
       "    </tr>\n",
       "    <tr>\n",
       "      <th>49</th>\n",
       "      <td>3</td>\n",
       "      <td>22.0</td>\n",
       "      <td>9.29</td>\n",
       "      <td>45442</td>\n",
       "      <td>1</td>\n",
       "      <td>1</td>\n",
       "      <td>3</td>\n",
       "    </tr>\n",
       "    <tr>\n",
       "      <th>34252</th>\n",
       "      <td>1</td>\n",
       "      <td>36.0</td>\n",
       "      <td>59.73</td>\n",
       "      <td>22829</td>\n",
       "      <td>0</td>\n",
       "      <td>2</td>\n",
       "      <td>0</td>\n",
       "    </tr>\n",
       "    <tr>\n",
       "      <th>77652</th>\n",
       "      <td>3</td>\n",
       "      <td>20.0</td>\n",
       "      <td>27.75</td>\n",
       "      <td>12553</td>\n",
       "      <td>1</td>\n",
       "      <td>2</td>\n",
       "      <td>3</td>\n",
       "    </tr>\n",
       "  </tbody>\n",
       "</table>\n",
       "</div>"
      ],
      "text/plain": [
       "             pclass   age   fare  cabin  sex  embarked  family\n",
       "passengerid                                                   \n",
       "65444             3  33.0  13.10  45442    1         2       0\n",
       "57472             3  35.0   9.81  45442    1         2       0\n",
       "49                3  22.0   9.29  45442    1         1       3\n",
       "34252             1  36.0  59.73  22829    0         2       0\n",
       "77652             3  20.0  27.75  12553    1         2       3"
      ]
     },
     "execution_count": 50,
     "metadata": {},
     "output_type": "execute_result"
    }
   ],
   "source": [
    "X_train.head()"
   ]
  },
  {
   "cell_type": "markdown",
   "id": "a52ffac8",
   "metadata": {},
   "source": [
    "## More Functions"
   ]
  },
  {
   "cell_type": "markdown",
   "id": "b284cf71",
   "metadata": {},
   "source": [
    "### for Training"
   ]
  },
  {
   "cell_type": "code",
   "execution_count": 51,
   "id": "1c9e10cd",
   "metadata": {},
   "outputs": [],
   "source": [
    "from sklearn.ensemble import RandomForestClassifier"
   ]
  },
  {
   "cell_type": "code",
   "execution_count": 52,
   "id": "60943486",
   "metadata": {},
   "outputs": [],
   "source": [
    "def prefit_clf__rf(\n",
    "    random_state: int, # get random state from parameters\n",
    "    max_depth: Union[int, None] # either None or given max_depth hyperparameter\n",
    ") -> base.ClassifierMixin: # return an unfit Random Forest\n",
    "    return RandomForestClassifier(max_depth = max_depth, random_state = random_state)"
   ]
  },
  {
   "cell_type": "code",
   "execution_count": 53,
   "id": "790e37ea",
   "metadata": {},
   "outputs": [],
   "source": [
    "def fit_clf(\n",
    "    prefit_clf: base.ClassifierMixin, # prefit classifier\n",
    "    X_train: pd.DataFrame, # transformed features matrix\n",
    "    y_train: pd.Series, # target column\n",
    ") -> base.ClassifierMixin:\n",
    "    \"\"\"Calls fit on the classifier object; it mutates the classifier and fits it.\"\"\"\n",
    "    prefit_clf.fit(X_train, y_train)\n",
    "    return prefit_clf"
   ]
  },
  {
   "cell_type": "code",
   "execution_count": 54,
   "id": "e618aea6",
   "metadata": {},
   "outputs": [],
   "source": [
    "import joblib\n",
    "def write_model(\n",
    "    fit_clf: base.ClassifierMixin, # already fit classifier\n",
    "    modelpath: Path # folder for model\n",
    ") -> None:\n",
    "    joblib.dump(fit_clf, f\"{modelpath}/model.joblib\")"
   ]
  },
  {
   "cell_type": "markdown",
   "id": "55f49884",
   "metadata": {},
   "source": [
    "### for Predictions"
   ]
  },
  {
   "cell_type": "code",
   "execution_count": 55,
   "id": "11e14600",
   "metadata": {},
   "outputs": [],
   "source": [
    "def predictions(\n",
    "    fit_clf: base.ClassifierMixin, # already fit classifier\n",
    "    X:pd.DataFrame, # training or testing dataframe\n",
    "    t:float = 0.5 # classification probability threshold\n",
    ") -> Tuple[float, int]: # Probabilities from model, Predictions from model\n",
    "    y_proba = fit_clf.predict_proba(X)[:, 1]\n",
    "    y_preds  = 1*(y_proba >= t)\n",
    "    return y_proba, y_preds"
   ]
  },
  {
   "cell_type": "markdown",
   "id": "499637db",
   "metadata": {},
   "source": [
    "### for Metrics and Plots"
   ]
  },
  {
   "cell_type": "code",
   "execution_count": 56,
   "id": "89aa83e6",
   "metadata": {},
   "outputs": [],
   "source": [
    "from sklearn.metrics import (\n",
    "    roc_auc_score,\n",
    "    average_precision_score,\n",
    "    accuracy_score,\n",
    "    precision_score,\n",
    "    recall_score,\n",
    "    f1_score,\n",
    "    confusion_matrix,\n",
    "    ConfusionMatrixDisplay,\n",
    "    roc_curve,\n",
    "    RocCurveDisplay,\n",
    "    precision_recall_curve,\n",
    "    PrecisionRecallDisplay,\n",
    ")\n",
    "import json"
   ]
  },
  {
   "cell_type": "code",
   "execution_count": 57,
   "id": "c6ce43c4",
   "metadata": {},
   "outputs": [],
   "source": [
    "def metrics_noproba(\n",
    "    y: pd.Series, # actual values\n",
    "    ypred: pd.Series # predictions based on some threshold\n",
    ") -> Dict[str, float]:\n",
    "    return {\n",
    "        \"accuracy\": accuracy_score(y, ypred),\n",
    "        \"precision\": precision_score(y, ypred),\n",
    "        \"recall\": recall_score(y, ypred),\n",
    "        \"f1\": f1_score(y, ypred)    }"
   ]
  },
  {
   "cell_type": "code",
   "execution_count": 58,
   "id": "48df2449",
   "metadata": {},
   "outputs": [],
   "source": [
    "def plots_noproba(\n",
    "    y: pd.Series, # actual values\n",
    "    ypred: pd.Series # predictions based on some threshold\n",
    ") -> Dict[str, object]:    \n",
    "    cm = confusion_matrix(y, ypred)\n",
    "    cm_plot = ConfusionMatrixDisplay(cm)\n",
    "    return {\n",
    "        'cm': cm_plot\n",
    "    }"
   ]
  },
  {
   "cell_type": "code",
   "execution_count": 59,
   "id": "6a3c086b",
   "metadata": {},
   "outputs": [],
   "source": [
    "def metrics(\n",
    "    y: pd.Series, # actual values\n",
    "    ypred: pd.Series, # predictions based on some threshold\n",
    "    yproba: pd.Series # probability values\n",
    ") -> Dict[str, float]:\n",
    "    return {\n",
    "        \"roc_auc\": roc_auc_score(y, yproba),\n",
    "        \"average_precision\": average_precision_score(y, yproba),\n",
    "        \"accuracy\": accuracy_score(y, ypred),\n",
    "        \"precision\": precision_score(y, ypred),\n",
    "        \"recall\": recall_score(y, ypred),\n",
    "        \"f1\": f1_score(y, ypred)\n",
    "    }"
   ]
  },
  {
   "cell_type": "code",
   "execution_count": 60,
   "id": "a53e4a52",
   "metadata": {},
   "outputs": [],
   "source": [
    "def write_metrics(\n",
    "    metrics: Dict[str, object], # dictionary of metrics\n",
    "    modelpath: Path, # model folder to write to\n",
    "    context: str # train or test, with hyperparams and run_id if appropriate\n",
    ") -> None:\n",
    "    with open(modelpath/f\"{context}.json\", \"w\") as fd:\n",
    "        fd.write(json.dumps(metrics))"
   ]
  },
  {
   "cell_type": "code",
   "execution_count": 61,
   "id": "abcb9a37",
   "metadata": {},
   "outputs": [],
   "source": [
    "def plots(\n",
    "    y: pd.Series, # actual values\n",
    "    ypred: pd.Series, # predictions based on some threshold\n",
    "    yproba: pd.Series # probability values\n",
    ") -> Dict[str, object]:\n",
    "    cm = confusion_matrix(y, ypred)\n",
    "    cm_plot = ConfusionMatrixDisplay(cm)\n",
    "    fpr, tpr, _ = roc_curve(y, yproba)\n",
    "    roc_plot = RocCurveDisplay(fpr=fpr, tpr=tpr)\n",
    "    prec, recall, _ = precision_recall_curve(y, yproba)\n",
    "    pr_plot = PrecisionRecallDisplay(precision=prec, recall=recall)\n",
    "    return {\n",
    "        'cm': cm_plot,\n",
    "        'roc': roc_plot,\n",
    "        'pr': pr_plot\n",
    "    }"
   ]
  },
  {
   "cell_type": "code",
   "execution_count": 62,
   "id": "ec827dc1",
   "metadata": {},
   "outputs": [],
   "source": [
    "def write_plots(\n",
    "    plots: Dict[str, object], # dictionary of metrics\n",
    "    modelpath: Path, # model folder to write to\n",
    "    context: str # train or test, with hyperparams and run_id if appropriate\n",
    ") -> None:\n",
    "    for plot_type in plots:\n",
    "        plots[plot_type].plot()\n",
    "        plots[plot_type].figure_.savefig(f\"{modelpath}/{plot_type}_{context}.png\")"
   ]
  },
  {
   "cell_type": "markdown",
   "id": "874cd777",
   "metadata": {},
   "source": [
    "## Model Training"
   ]
  },
  {
   "cell_type": "code",
   "execution_count": 63,
   "id": "ea90d212",
   "metadata": {},
   "outputs": [],
   "source": [
    "artpath = Path(\"./artifacts\")"
   ]
  },
  {
   "cell_type": "markdown",
   "id": "1c03c22b",
   "metadata": {},
   "source": [
    "### Very Baseline Model"
   ]
  },
  {
   "cell_type": "code",
   "execution_count": 64,
   "id": "b0fd607e",
   "metadata": {},
   "outputs": [
    {
     "data": {
      "text/plain": [
       "(0.42774626865671644, 0.42772727272727273)"
      ]
     },
     "execution_count": 64,
     "metadata": {},
     "output_type": "execute_result"
    }
   ],
   "source": [
    "np.mean(y_train), np.mean(y_valid)"
   ]
  },
  {
   "cell_type": "markdown",
   "id": "50c75ad5",
   "metadata": {},
   "source": [
    "Everyone Dies"
   ]
  },
  {
   "cell_type": "code",
   "execution_count": 65,
   "id": "0917276d",
   "metadata": {},
   "outputs": [
    {
     "data": {
      "text/plain": [
       "PosixPath('artifacts/everybody_dies')"
      ]
     },
     "execution_count": 65,
     "metadata": {},
     "output_type": "execute_result"
    }
   ],
   "source": [
    "mname = \"everybody_dies\"\n",
    "mpath = Path(artpath/mname)\n",
    "mpath.mkdir(parents=True, exist_ok=True)\n",
    "mpath"
   ]
  },
  {
   "cell_type": "code",
   "execution_count": 66,
   "id": "a401f39b",
   "metadata": {},
   "outputs": [
    {
     "name": "stdout",
     "output_type": "stream",
     "text": [
      "total 0\n",
      "drwxr-xr-x  2 rahul  staff  64 Nov 18 12:18 \u001b[1m\u001b[36meverybody_dies\u001b[m\u001b[m\n"
     ]
    }
   ],
   "source": [
    "!ls -l artifacts/"
   ]
  },
  {
   "cell_type": "code",
   "execution_count": 67,
   "id": "bb81559a",
   "metadata": {},
   "outputs": [
    {
     "name": "stdout",
     "output_type": "stream",
     "text": [
      "TRAIN/ALLDIE {'accuracy': 0.42774626865671644, 'precision': 0.42774626865671644, 'recall': 1.0, 'f1': 0.5991908759238546}\n",
      "VALID/ALLDIE {'accuracy': 0.42772727272727273, 'precision': 0.42772727272727273, 'recall': 1.0, 'f1': 0.5991722381407195}\n"
     ]
    }
   ],
   "source": [
    "metrics_train_alldie = metrics_noproba(y_train, np.ones(y_train.size))\n",
    "metrics_valid_alldie = metrics_noproba(y_valid, np.ones(y_valid.size))\n",
    "print(\"TRAIN/ALLDIE\", metrics_train_alldie)\n",
    "write_metrics(metrics_train_alldie, mpath, \"train\")\n",
    "print(\"VALID/ALLDIE\", metrics_valid_alldie)\n",
    "write_metrics(metrics_valid_alldie, mpath, \"valid\")\n",
    "\n"
   ]
  },
  {
   "cell_type": "code",
   "execution_count": 68,
   "id": "15a8b309",
   "metadata": {},
   "outputs": [
    {
     "data": {
      "text/plain": [
       "PosixPath('artifacts/noone_dies')"
      ]
     },
     "execution_count": 68,
     "metadata": {},
     "output_type": "execute_result"
    }
   ],
   "source": [
    "mname = \"noone_dies\"\n",
    "mpath = Path(artpath/mname)\n",
    "mpath.mkdir(parents=True, exist_ok=True)\n",
    "mpath"
   ]
  },
  {
   "cell_type": "code",
   "execution_count": 69,
   "id": "2a98e7d6",
   "metadata": {},
   "outputs": [
    {
     "name": "stdout",
     "output_type": "stream",
     "text": [
      "TRAIN/NONEDIE {'accuracy': 0.5722537313432836, 'precision': 0.0, 'recall': 0.0, 'f1': 0.0}\n",
      "VALID/NONEDIE {'accuracy': 0.5722727272727273, 'precision': 0.0, 'recall': 0.0, 'f1': 0.0}\n"
     ]
    },
    {
     "name": "stderr",
     "output_type": "stream",
     "text": [
      "/Users/rahul/miniforge3/envs/ml1-arm64/lib/python3.9/site-packages/sklearn/metrics/_classification.py:1334: UndefinedMetricWarning: Precision is ill-defined and being set to 0.0 due to no predicted samples. Use `zero_division` parameter to control this behavior.\n",
      "  _warn_prf(average, modifier, msg_start, len(result))\n",
      "/Users/rahul/miniforge3/envs/ml1-arm64/lib/python3.9/site-packages/sklearn/metrics/_classification.py:1334: UndefinedMetricWarning: Precision is ill-defined and being set to 0.0 due to no predicted samples. Use `zero_division` parameter to control this behavior.\n",
      "  _warn_prf(average, modifier, msg_start, len(result))\n"
     ]
    }
   ],
   "source": [
    "metrics_train_nonedie = metrics_noproba(y_train, np.zeros(y_train.size))\n",
    "metrics_valid_nonedie = metrics_noproba(y_valid, np.zeros(y_valid.size))\n",
    "print(\"TRAIN/NONEDIE\", metrics_train_nonedie)\n",
    "write_metrics(metrics_train_nonedie, mpath, \"train\")\n",
    "print(\"VALID/NONEDIE\", metrics_valid_nonedie)\n",
    "write_metrics(metrics_valid_nonedie, mpath, \"valid\")"
   ]
  },
  {
   "cell_type": "markdown",
   "id": "44394198",
   "metadata": {},
   "source": [
    "### Baseline Model"
   ]
  },
  {
   "cell_type": "code",
   "execution_count": 70,
   "id": "d40b2065",
   "metadata": {},
   "outputs": [],
   "source": [
    "prefit_rf = prefit_clf__rf(\n",
    "    random_state = RANDOM_STATE,\n",
    "    max_depth = None\n",
    ")\n",
    "rf = fit_clf(prefit_rf, X_train, y_train)"
   ]
  },
  {
   "cell_type": "markdown",
   "id": "27e36923",
   "metadata": {},
   "source": [
    "### Baseline Model Predictions"
   ]
  },
  {
   "cell_type": "code",
   "execution_count": 71,
   "id": "28d1894b",
   "metadata": {},
   "outputs": [],
   "source": [
    "trainproba, trainpreds = predictions(rf, X_train)\n",
    "validproba, validpreds = predictions(rf, X_valid)"
   ]
  },
  {
   "cell_type": "code",
   "execution_count": 72,
   "id": "529294ad",
   "metadata": {},
   "outputs": [
    {
     "data": {
      "text/plain": [
       "PosixPath('artifacts/baseline_rf')"
      ]
     },
     "execution_count": 72,
     "metadata": {},
     "output_type": "execute_result"
    }
   ],
   "source": [
    "mname = \"baseline_rf\"\n",
    "mpath = Path(artpath/mname)\n",
    "mpath.mkdir(parents=True, exist_ok=True)\n",
    "mpath"
   ]
  },
  {
   "cell_type": "code",
   "execution_count": 73,
   "id": "0886866f",
   "metadata": {},
   "outputs": [],
   "source": [
    "write_metrics(dict(max_depth=None, random_state=RANDOM_STATE), mpath, \"params\")"
   ]
  },
  {
   "cell_type": "markdown",
   "id": "70b8040a",
   "metadata": {},
   "source": [
    "#### Baseline Model Metrics and Plots"
   ]
  },
  {
   "cell_type": "code",
   "execution_count": 74,
   "id": "dacacd83",
   "metadata": {},
   "outputs": [
    {
     "name": "stdout",
     "output_type": "stream",
     "text": [
      "{'roc_auc': 0.9998462502393908, 'average_precision': 0.9998050550493748, 'accuracy': 0.9954776119402985, 'precision': 0.9977181773502773, 'recall': 0.991695453435221, 'f1': 0.9946976988362937}\n"
     ]
    }
   ],
   "source": [
    "train_metrics = metrics(y_train, trainpreds, trainproba)\n",
    "train_plots = plots(y_train, trainpreds, trainproba)\n",
    "print(train_metrics)"
   ]
  },
  {
   "cell_type": "code",
   "execution_count": 75,
   "id": "6e775c98",
   "metadata": {},
   "outputs": [],
   "source": [
    "write_metrics(train_metrics, mpath, \"train\")"
   ]
  },
  {
   "cell_type": "code",
   "execution_count": 76,
   "id": "b7c46f45",
   "metadata": {},
   "outputs": [
    {
     "data": {
      "image/png": "[encoded data removed]",
      "text/plain": [
       "<Figure size 640x480 with 2 Axes>"
      ]
     },
     "metadata": {},
     "output_type": "display_data"
    },
    {
     "data": {
      "image/png": "[encoded data removed]",
      "text/plain": [
       "<Figure size 640x480 with 1 Axes>"
      ]
     },
     "metadata": {},
     "output_type": "display_data"
    },
    {
     "data": {
      "image/png": "[encoded data removed]",
      "text/plain": [
       "<Figure size 640x480 with 1 Axes>"
      ]
     },
     "metadata": {},
     "output_type": "display_data"
    }
   ],
   "source": [
    "write_plots(train_plots, mpath, \"train\")"
   ]
  },
  {
   "cell_type": "code",
   "execution_count": 77,
   "id": "1afc129f",
   "metadata": {},
   "outputs": [
    {
     "name": "stdout",
     "output_type": "stream",
     "text": [
      "Validation metrics:\n",
      "{'roc_auc': 0.8087066590849343, 'average_precision': 0.7468505126400189, 'accuracy': 0.7430606060606061, 'precision': 0.6996599121439705, 'recall': 0.6996103436060928, 'f1': 0.6996351269970597}\n"
     ]
    }
   ],
   "source": [
    "valid_metrics = metrics(y_valid, validpreds, validproba)\n",
    "valid_plots = plots(y_valid, validpreds, validproba)\n",
    "print(\"Validation metrics:\")\n",
    "print(valid_metrics)"
   ]
  },
  {
   "cell_type": "code",
   "execution_count": 78,
   "id": "89f73708",
   "metadata": {},
   "outputs": [],
   "source": [
    "write_metrics(valid_metrics, mpath, \"valid\")"
   ]
  },
  {
   "cell_type": "code",
   "execution_count": 79,
   "id": "45dc4fc0",
   "metadata": {},
   "outputs": [
    {
     "data": {
      "image/png": "[encoded data removed]",
      "text/plain": [
       "<Figure size 640x480 with 2 Axes>"
      ]
     },
     "metadata": {},
     "output_type": "display_data"
    },
    {
     "data": {
      "image/png": "[encoded data removed]",
      "text/plain": [
       "<Figure size 640x480 with 1 Axes>"
      ]
     },
     "metadata": {},
     "output_type": "display_data"
    },
    {
     "data": {
      "image/png": "[encoded data removed]",
      "text/plain": [
       "<Figure size 640x480 with 1 Axes>"
      ]
     },
     "metadata": {},
     "output_type": "display_data"
    }
   ],
   "source": [
    "write_plots(valid_plots, mpath, \"train\")"
   ]
  },
  {
   "cell_type": "code",
   "execution_count": 80,
   "id": "ca9c6c02",
   "metadata": {},
   "outputs": [],
   "source": [
    "write_model(rf, mpath)"
   ]
  },
  {
   "cell_type": "code",
   "execution_count": 81,
   "id": "5db5a381",
   "metadata": {},
   "outputs": [
    {
     "name": "stdout",
     "output_type": "stream",
     "text": [
      "total 0\n",
      "drwxr-xr-x  9 rahul  staff   288B Nov 18 12:23 \u001b[1m\u001b[36mbaseline_rf\u001b[m\u001b[m\n",
      "drwxr-xr-x  4 rahul  staff   128B Nov 18 12:18 \u001b[1m\u001b[36meverybody_dies\u001b[m\u001b[m\n",
      "drwxr-xr-x  4 rahul  staff   128B Nov 18 12:19 \u001b[1m\u001b[36mnoone_dies\u001b[m\u001b[m\n",
      "\n",
      "artifacts/baseline_rf:\n",
      "total 397888\n",
      "-rw-r--r--  1 rahul  staff    17K Nov 18 12:23 cm_train.png\n",
      "-rw-r--r--  1 rahul  staff   194M Nov 18 12:23 model.joblib\n",
      "-rw-r--r--  1 rahul  staff    39B Nov 18 12:22 params.json\n",
      "-rw-r--r--  1 rahul  staff    18K Nov 18 12:23 pr_train.png\n",
      "-rw-r--r--  1 rahul  staff    20K Nov 18 12:23 roc_train.png\n",
      "-rw-r--r--  1 rahul  staff   192B Nov 18 12:22 train.json\n",
      "-rw-r--r--  1 rahul  staff   193B Nov 18 12:23 valid.json\n",
      "\n",
      "artifacts/everybody_dies:\n",
      "total 16\n",
      "-rw-r--r--  1 rahul  staff   108B Nov 18 12:18 train.json\n",
      "-rw-r--r--  1 rahul  staff   108B Nov 18 12:18 valid.json\n",
      "\n",
      "artifacts/noone_dies:\n",
      "total 16\n",
      "-rw-r--r--  1 rahul  staff    76B Nov 18 12:19 train.json\n",
      "-rw-r--r--  1 rahul  staff    76B Nov 18 12:19 valid.json\n"
     ]
    }
   ],
   "source": [
    "!ls -lRh artifacts"
   ]
  },
  {
   "cell_type": "markdown",
   "id": "394eacf9",
   "metadata": {},
   "source": [
    "### Baseline Model Inference as a separate pipeline"
   ]
  },
  {
   "cell_type": "code",
   "execution_count": 82,
   "id": "c883cf30",
   "metadata": {},
   "outputs": [
    {
     "data": {
      "text/html": [
       "<div>\n",
       "<style scoped>\n",
       "    .dataframe tbody tr th:only-of-type {\n",
       "        vertical-align: middle;\n",
       "    }\n",
       "\n",
       "    .dataframe tbody tr th {\n",
       "        vertical-align: top;\n",
       "    }\n",
       "\n",
       "    .dataframe thead th {\n",
       "        text-align: right;\n",
       "    }\n",
       "</style>\n",
       "<table border=\"1\" class=\"dataframe\">\n",
       "  <thead>\n",
       "    <tr style=\"text-align: right;\">\n",
       "      <th></th>\n",
       "      <th>parch</th>\n",
       "      <th>age</th>\n",
       "      <th>pclass</th>\n",
       "      <th>fare</th>\n",
       "      <th>name</th>\n",
       "      <th>sibsp</th>\n",
       "      <th>cabin</th>\n",
       "      <th>ticket</th>\n",
       "      <th>sex</th>\n",
       "      <th>embarked</th>\n",
       "    </tr>\n",
       "    <tr>\n",
       "      <th>passengerid</th>\n",
       "      <th></th>\n",
       "      <th></th>\n",
       "      <th></th>\n",
       "      <th></th>\n",
       "      <th></th>\n",
       "      <th></th>\n",
       "      <th></th>\n",
       "      <th></th>\n",
       "      <th></th>\n",
       "      <th></th>\n",
       "    </tr>\n",
       "  </thead>\n",
       "  <tbody>\n",
       "    <tr>\n",
       "      <th>100000</th>\n",
       "      <td>0</td>\n",
       "      <td>19.0</td>\n",
       "      <td>3</td>\n",
       "      <td>63.01</td>\n",
       "      <td>Holliday, Daniel</td>\n",
       "      <td>0</td>\n",
       "      <td>45442</td>\n",
       "      <td>24745</td>\n",
       "      <td>1</td>\n",
       "      <td>2</td>\n",
       "    </tr>\n",
       "    <tr>\n",
       "      <th>100001</th>\n",
       "      <td>0</td>\n",
       "      <td>53.0</td>\n",
       "      <td>3</td>\n",
       "      <td>5.81</td>\n",
       "      <td>Nguyen, Lorraine</td>\n",
       "      <td>0</td>\n",
       "      <td>45442</td>\n",
       "      <td>13264</td>\n",
       "      <td>0</td>\n",
       "      <td>2</td>\n",
       "    </tr>\n",
       "    <tr>\n",
       "      <th>100002</th>\n",
       "      <td>0</td>\n",
       "      <td>19.0</td>\n",
       "      <td>1</td>\n",
       "      <td>38.91</td>\n",
       "      <td>Harris, Heather</td>\n",
       "      <td>0</td>\n",
       "      <td>13085</td>\n",
       "      <td>25990</td>\n",
       "      <td>0</td>\n",
       "      <td>0</td>\n",
       "    </tr>\n",
       "    <tr>\n",
       "      <th>100003</th>\n",
       "      <td>0</td>\n",
       "      <td>25.0</td>\n",
       "      <td>2</td>\n",
       "      <td>12.93</td>\n",
       "      <td>Larsen, Eric</td>\n",
       "      <td>0</td>\n",
       "      <td>45442</td>\n",
       "      <td>314011</td>\n",
       "      <td>1</td>\n",
       "      <td>2</td>\n",
       "    </tr>\n",
       "    <tr>\n",
       "      <th>100004</th>\n",
       "      <td>2</td>\n",
       "      <td>17.0</td>\n",
       "      <td>1</td>\n",
       "      <td>26.89</td>\n",
       "      <td>Cleary, Sarah</td>\n",
       "      <td>0</td>\n",
       "      <td>16911</td>\n",
       "      <td>26203</td>\n",
       "      <td>0</td>\n",
       "      <td>0</td>\n",
       "    </tr>\n",
       "    <tr>\n",
       "      <th>...</th>\n",
       "      <td>...</td>\n",
       "      <td>...</td>\n",
       "      <td>...</td>\n",
       "      <td>...</td>\n",
       "      <td>...</td>\n",
       "      <td>...</td>\n",
       "      <td>...</td>\n",
       "      <td>...</td>\n",
       "      <td>...</td>\n",
       "      <td>...</td>\n",
       "    </tr>\n",
       "    <tr>\n",
       "      <th>199995</th>\n",
       "      <td>0</td>\n",
       "      <td>27.0</td>\n",
       "      <td>3</td>\n",
       "      <td>10.12</td>\n",
       "      <td>Cash, Cheryle</td>\n",
       "      <td>0</td>\n",
       "      <td>45442</td>\n",
       "      <td>7686</td>\n",
       "      <td>0</td>\n",
       "      <td>1</td>\n",
       "    </tr>\n",
       "    <tr>\n",
       "      <th>199996</th>\n",
       "      <td>0</td>\n",
       "      <td>59.0</td>\n",
       "      <td>1</td>\n",
       "      <td>68.31</td>\n",
       "      <td>Brown, Howard</td>\n",
       "      <td>1</td>\n",
       "      <td>45442</td>\n",
       "      <td>13004</td>\n",
       "      <td>1</td>\n",
       "      <td>2</td>\n",
       "    </tr>\n",
       "    <tr>\n",
       "      <th>199997</th>\n",
       "      <td>0</td>\n",
       "      <td>47.0</td>\n",
       "      <td>3</td>\n",
       "      <td>10.87</td>\n",
       "      <td>Lightfoot, Cameron</td>\n",
       "      <td>0</td>\n",
       "      <td>45442</td>\n",
       "      <td>4383317</td>\n",
       "      <td>1</td>\n",
       "      <td>2</td>\n",
       "    </tr>\n",
       "    <tr>\n",
       "      <th>199998</th>\n",
       "      <td>2</td>\n",
       "      <td>49.0</td>\n",
       "      <td>1</td>\n",
       "      <td>29.68</td>\n",
       "      <td>Jacobsen, Margaret</td>\n",
       "      <td>1</td>\n",
       "      <td>16172</td>\n",
       "      <td>PC</td>\n",
       "      <td>0</td>\n",
       "      <td>0</td>\n",
       "    </tr>\n",
       "    <tr>\n",
       "      <th>199999</th>\n",
       "      <td>2</td>\n",
       "      <td>41.0</td>\n",
       "      <td>1</td>\n",
       "      <td>195.41</td>\n",
       "      <td>Fishback, Joanna</td>\n",
       "      <td>0</td>\n",
       "      <td>39240</td>\n",
       "      <td>PC</td>\n",
       "      <td>0</td>\n",
       "      <td>0</td>\n",
       "    </tr>\n",
       "  </tbody>\n",
       "</table>\n",
       "<p>100000 rows × 10 columns</p>\n",
       "</div>"
      ],
      "text/plain": [
       "             parch   age  pclass    fare                name  sibsp  cabin  \\\n",
       "passengerid                                                                  \n",
       "100000           0  19.0       3   63.01    Holliday, Daniel      0  45442   \n",
       "100001           0  53.0       3    5.81    Nguyen, Lorraine      0  45442   \n",
       "100002           0  19.0       1   38.91     Harris, Heather      0  13085   \n",
       "100003           0  25.0       2   12.93        Larsen, Eric      0  45442   \n",
       "100004           2  17.0       1   26.89       Cleary, Sarah      0  16911   \n",
       "...            ...   ...     ...     ...                 ...    ...    ...   \n",
       "199995           0  27.0       3   10.12       Cash, Cheryle      0  45442   \n",
       "199996           0  59.0       1   68.31       Brown, Howard      1  45442   \n",
       "199997           0  47.0       3   10.87  Lightfoot, Cameron      0  45442   \n",
       "199998           2  49.0       1   29.68  Jacobsen, Margaret      1  16172   \n",
       "199999           2  41.0       1  195.41    Fishback, Joanna      0  39240   \n",
       "\n",
       "              ticket  sex  embarked  \n",
       "passengerid                          \n",
       "100000         24745    1         2  \n",
       "100001         13264    0         2  \n",
       "100002         25990    0         0  \n",
       "100003        314011    1         2  \n",
       "100004         26203    0         0  \n",
       "...              ...  ...       ...  \n",
       "199995          7686    0         1  \n",
       "199996         13004    1         2  \n",
       "199997       4383317    1         2  \n",
       "199998            PC    0         0  \n",
       "199999            PC    0         0  \n",
       "\n",
       "[100000 rows x 10 columns]"
      ]
     },
     "execution_count": 82,
     "metadata": {},
     "output_type": "execute_result"
    }
   ],
   "source": [
    "transtestdata, les = transformed_features(\n",
    "    pd.concat([X[cat_cols], testdata[cat_cols]], axis=0),\n",
    "    testdata,\n",
    "    cat_cols,\n",
    "    cabin_t(testdata.cabin),\n",
    "    ticket_t(testdata.ticket),\n",
    "    les\n",
    ")\n",
    "transtestdata"
   ]
  },
  {
   "cell_type": "code",
   "execution_count": 83,
   "id": "abeb53e7",
   "metadata": {},
   "outputs": [
    {
     "data": {
      "text/html": [
       "<div>\n",
       "<style scoped>\n",
       "    .dataframe tbody tr th:only-of-type {\n",
       "        vertical-align: middle;\n",
       "    }\n",
       "\n",
       "    .dataframe tbody tr th {\n",
       "        vertical-align: top;\n",
       "    }\n",
       "\n",
       "    .dataframe thead th {\n",
       "        text-align: right;\n",
       "    }\n",
       "</style>\n",
       "<table border=\"1\" class=\"dataframe\">\n",
       "  <thead>\n",
       "    <tr style=\"text-align: right;\">\n",
       "      <th></th>\n",
       "      <th>age</th>\n",
       "      <th>pclass</th>\n",
       "      <th>fare</th>\n",
       "      <th>cabin</th>\n",
       "      <th>sex</th>\n",
       "      <th>embarked</th>\n",
       "      <th>family</th>\n",
       "    </tr>\n",
       "    <tr>\n",
       "      <th>passengerid</th>\n",
       "      <th></th>\n",
       "      <th></th>\n",
       "      <th></th>\n",
       "      <th></th>\n",
       "      <th></th>\n",
       "      <th></th>\n",
       "      <th></th>\n",
       "    </tr>\n",
       "  </thead>\n",
       "  <tbody>\n",
       "    <tr>\n",
       "      <th>100000</th>\n",
       "      <td>19.0</td>\n",
       "      <td>3</td>\n",
       "      <td>63.01</td>\n",
       "      <td>45442</td>\n",
       "      <td>1</td>\n",
       "      <td>2</td>\n",
       "      <td>0</td>\n",
       "    </tr>\n",
       "    <tr>\n",
       "      <th>100001</th>\n",
       "      <td>53.0</td>\n",
       "      <td>3</td>\n",
       "      <td>5.81</td>\n",
       "      <td>45442</td>\n",
       "      <td>0</td>\n",
       "      <td>2</td>\n",
       "      <td>0</td>\n",
       "    </tr>\n",
       "    <tr>\n",
       "      <th>100002</th>\n",
       "      <td>19.0</td>\n",
       "      <td>1</td>\n",
       "      <td>38.91</td>\n",
       "      <td>13085</td>\n",
       "      <td>0</td>\n",
       "      <td>0</td>\n",
       "      <td>0</td>\n",
       "    </tr>\n",
       "    <tr>\n",
       "      <th>100003</th>\n",
       "      <td>25.0</td>\n",
       "      <td>2</td>\n",
       "      <td>12.93</td>\n",
       "      <td>45442</td>\n",
       "      <td>1</td>\n",
       "      <td>2</td>\n",
       "      <td>0</td>\n",
       "    </tr>\n",
       "    <tr>\n",
       "      <th>100004</th>\n",
       "      <td>17.0</td>\n",
       "      <td>1</td>\n",
       "      <td>26.89</td>\n",
       "      <td>16911</td>\n",
       "      <td>0</td>\n",
       "      <td>0</td>\n",
       "      <td>2</td>\n",
       "    </tr>\n",
       "    <tr>\n",
       "      <th>...</th>\n",
       "      <td>...</td>\n",
       "      <td>...</td>\n",
       "      <td>...</td>\n",
       "      <td>...</td>\n",
       "      <td>...</td>\n",
       "      <td>...</td>\n",
       "      <td>...</td>\n",
       "    </tr>\n",
       "    <tr>\n",
       "      <th>199995</th>\n",
       "      <td>27.0</td>\n",
       "      <td>3</td>\n",
       "      <td>10.12</td>\n",
       "      <td>45442</td>\n",
       "      <td>0</td>\n",
       "      <td>1</td>\n",
       "      <td>0</td>\n",
       "    </tr>\n",
       "    <tr>\n",
       "      <th>199996</th>\n",
       "      <td>59.0</td>\n",
       "      <td>1</td>\n",
       "      <td>68.31</td>\n",
       "      <td>45442</td>\n",
       "      <td>1</td>\n",
       "      <td>2</td>\n",
       "      <td>1</td>\n",
       "    </tr>\n",
       "    <tr>\n",
       "      <th>199997</th>\n",
       "      <td>47.0</td>\n",
       "      <td>3</td>\n",
       "      <td>10.87</td>\n",
       "      <td>45442</td>\n",
       "      <td>1</td>\n",
       "      <td>2</td>\n",
       "      <td>0</td>\n",
       "    </tr>\n",
       "    <tr>\n",
       "      <th>199998</th>\n",
       "      <td>49.0</td>\n",
       "      <td>1</td>\n",
       "      <td>29.68</td>\n",
       "      <td>16172</td>\n",
       "      <td>0</td>\n",
       "      <td>0</td>\n",
       "      <td>3</td>\n",
       "    </tr>\n",
       "    <tr>\n",
       "      <th>199999</th>\n",
       "      <td>41.0</td>\n",
       "      <td>1</td>\n",
       "      <td>195.41</td>\n",
       "      <td>39240</td>\n",
       "      <td>0</td>\n",
       "      <td>0</td>\n",
       "      <td>2</td>\n",
       "    </tr>\n",
       "  </tbody>\n",
       "</table>\n",
       "<p>100000 rows × 7 columns</p>\n",
       "</div>"
      ],
      "text/plain": [
       "              age  pclass    fare  cabin  sex  embarked  family\n",
       "passengerid                                                    \n",
       "100000       19.0       3   63.01  45442    1         2       0\n",
       "100001       53.0       3    5.81  45442    0         2       0\n",
       "100002       19.0       1   38.91  13085    0         0       0\n",
       "100003       25.0       2   12.93  45442    1         2       0\n",
       "100004       17.0       1   26.89  16911    0         0       2\n",
       "...           ...     ...     ...    ...  ...       ...     ...\n",
       "199995       27.0       3   10.12  45442    0         1       0\n",
       "199996       59.0       1   68.31  45442    1         2       1\n",
       "199997       47.0       3   10.87  45442    1         2       0\n",
       "199998       49.0       1   29.68  16172    0         0       3\n",
       "199999       41.0       1  195.41  39240    0         0       2\n",
       "\n",
       "[100000 rows x 7 columns]"
      ]
     },
     "execution_count": 83,
     "metadata": {},
     "output_type": "execute_result"
    }
   ],
   "source": [
    "finaltestdata = final_imputed_features(dropped_features(engineered_features(\n",
    "    transtestdata,\n",
    "    family(transtestdata.sibsp, transtestdata.parch),\n",
    "), drop_cols))\n",
    "finaltestdata"
   ]
  },
  {
   "cell_type": "code",
   "execution_count": 84,
   "id": "26237557",
   "metadata": {},
   "outputs": [
    {
     "name": "stderr",
     "output_type": "stream",
     "text": [
      "/Users/rahul/miniforge3/envs/ml1-arm64/lib/python3.9/site-packages/sklearn/base.py:493: FutureWarning: The feature names should match those that were passed during fit. Starting version 1.2, an error will be raised.\n",
      "Feature names must be in the same order as they were in fit.\n",
      "\n",
      "  warnings.warn(message, FutureWarning)\n"
     ]
    },
    {
     "data": {
      "text/plain": [
       "array([0, 1, 1, ..., 0, 0, 1])"
      ]
     },
     "execution_count": 84,
     "metadata": {},
     "output_type": "execute_result"
    }
   ],
   "source": [
    "rf.predict(finaltestdata)"
   ]
  },
  {
   "cell_type": "code",
   "execution_count": null,
   "id": "55c7af52",
   "metadata": {},
   "outputs": [],
   "source": []
  }
 ],
 "metadata": {
  "kernelspec": {
   "display_name": "Python 3.10.4 64-bit",
   "language": "python",
   "name": "python3"
  },
  "language_info": {
   "codemirror_mode": {
    "name": "ipython",
    "version": 3
   },
   "file_extension": ".py",
   "mimetype": "text/x-python",
   "name": "python",
   "nbconvert_exporter": "python",
   "pygments_lexer": "ipython3",
   "version": "3.10.4"
  },
  "vscode": {
   "interpreter": {
    "hash": "3ad933181bd8a04b432d3370b9dc3b0662ad032c4dfaa4e4f1596c548f763858"
   }
  }
 },
 "nbformat": 4,
 "nbformat_minor": 5
}
